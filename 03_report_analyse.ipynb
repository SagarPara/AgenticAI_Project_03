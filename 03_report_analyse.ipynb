{
 "cells": [
  {
   "cell_type": "markdown",
   "id": "f2e571bb",
   "metadata": {},
   "source": [
    "### report analysis"
   ]
  },
  {
   "cell_type": "code",
   "execution_count": null,
   "id": "bd9713e0",
   "metadata": {},
   "outputs": [
    {
     "data": {
      "text/plain": [
       "AIMessage(content='Hello! How can I assist you today?', additional_kwargs={'refusal': None}, response_metadata={'token_usage': {'completion_tokens': 9, 'prompt_tokens': 8, 'total_tokens': 17, 'completion_tokens_details': {'accepted_prediction_tokens': 0, 'audio_tokens': 0, 'reasoning_tokens': 0, 'rejected_prediction_tokens': 0}, 'prompt_tokens_details': {'audio_tokens': 0, 'cached_tokens': 0}}, 'model_name': 'gpt-4o-mini-2024-07-18', 'system_fingerprint': 'fp_560af6e559', 'id': 'chatcmpl-CIGQmrFRwZOy6C4B09W66HXjjUwrf', 'service_tier': 'default', 'finish_reason': 'stop', 'logprobs': None}, id='run--34a6b92c-2793-4b33-88e9-abc171ae4d37-0', usage_metadata={'input_tokens': 8, 'output_tokens': 9, 'total_tokens': 17, 'input_token_details': {'audio': 0, 'cache_read': 0}, 'output_token_details': {'audio': 0, 'reasoning': 0}})"
      ]
     },
     "execution_count": 7,
     "metadata": {},
     "output_type": "execute_result"
    }
   ],
   "source": [
    "from langchain_openai import ChatOpenAI\n",
    "from langchain_core.prompts import ChatPromptTemplate\n",
    "\n",
    "import os\n",
    "from dotenv import load_dotenv\n",
    "load_dotenv(override=True)\n",
    "\n",
    "os.environ[\"OPENAI_API_KEY\"] = os.getenv(\"OPENAI_API_KEY\")\n",
    "\n",
    "\n",
    "# initialize the LLM\n",
    "# llm = ChatOpenAI(model=\"gpt-3.5-turbo\", temperature=0)\n",
    "llm = ChatOpenAI(model=\"gpt-4o-mini\", temperature=0)"
   ]
  },
  {
   "cell_type": "code",
   "execution_count": null,
   "id": "2e917cfb",
   "metadata": {},
   "outputs": [],
   "source": [
    "# analyse the report thoroughly and try to understand\n",
    "\n",
    "prompt_analyse = ChatPromptTemplate.from_message([\n",
    "    (\"system\",\n",
    "     f\"\"\" You are an expert in report analysing task. You have 20 years of experience in reporting. You will be provided dataset in csv file. You will read the file carefully and try to understand it. \n",
    "     Take your time to understand it correctly. Then you will be expected to generate below outputs,\n",
    "     1. Summarize the report. explain what this report is actually.\n",
    "     2. Build 4-5 graphs which helps client to understand the report visually.\n",
    "     3. Provide 4-5 insights from report\n",
    "     4. Suggest improvements if applicable.\n",
    "\n",
    "     Use markdown formatting in your output.\n",
    "     \"\"\"\n",
    "     ),\n",
    "    (\"user\",\"{data_summary}\"     )\n",
    "])\n",
    "\n",
    "# combine the model\n",
    "chain_analyse = prompt_analyse | llm\n",
    "\n",
    "raw_analyse = chain_analyse.invoke({})\n",
    "\n",
    "result = raw_analyse.content\n"
   ]
  },
  {
   "cell_type": "code",
   "execution_count": null,
   "id": "b7833d74",
   "metadata": {},
   "outputs": [],
   "source": []
  },
  {
   "cell_type": "code",
   "execution_count": null,
   "id": "16fa08e2",
   "metadata": {},
   "outputs": [],
   "source": []
  },
  {
   "cell_type": "code",
   "execution_count": null,
   "id": "28c917c9",
   "metadata": {},
   "outputs": [],
   "source": []
  },
  {
   "cell_type": "code",
   "execution_count": null,
   "id": "c14a8606",
   "metadata": {},
   "outputs": [],
   "source": []
  },
  {
   "cell_type": "code",
   "execution_count": null,
   "id": "825cd28f",
   "metadata": {},
   "outputs": [],
   "source": []
  },
  {
   "cell_type": "code",
   "execution_count": null,
   "id": "36be6d68",
   "metadata": {},
   "outputs": [],
   "source": []
  },
  {
   "cell_type": "code",
   "execution_count": null,
   "id": "57370ebf",
   "metadata": {},
   "outputs": [],
   "source": []
  },
  {
   "cell_type": "code",
   "execution_count": null,
   "id": "8637a421",
   "metadata": {},
   "outputs": [],
   "source": []
  },
  {
   "cell_type": "code",
   "execution_count": null,
   "id": "cd35f629",
   "metadata": {},
   "outputs": [],
   "source": []
  },
  {
   "cell_type": "code",
   "execution_count": null,
   "id": "7b5990cb",
   "metadata": {},
   "outputs": [],
   "source": []
  }
 ],
 "metadata": {
  "kernelspec": {
   "display_name": "AgenticAI_03",
   "language": "python",
   "name": "python3"
  },
  "language_info": {
   "codemirror_mode": {
    "name": "ipython",
    "version": 3
   },
   "file_extension": ".py",
   "mimetype": "text/x-python",
   "name": "python",
   "nbconvert_exporter": "python",
   "pygments_lexer": "ipython3",
   "version": "3.12.9"
  }
 },
 "nbformat": 4,
 "nbformat_minor": 5
}
