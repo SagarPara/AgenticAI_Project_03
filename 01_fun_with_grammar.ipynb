{
 "cells": [
  {
   "cell_type": "markdown",
   "id": "ea52edcd",
   "metadata": {},
   "source": [
    "### Fun_With_Grammar"
   ]
  },
  {
   "cell_type": "code",
   "execution_count": 7,
   "id": "33df32b1",
   "metadata": {},
   "outputs": [
    {
     "name": "stdout",
     "output_type": "stream",
     "text": [
      "c:\\Users\\Dell\\OneDrive\\Desktop\\Projects_AgentAI\\AgenticAI_03\\.venv\\Scripts\\python.exe\n"
     ]
    }
   ],
   "source": [
    "import sys\n",
    "print(sys.executable)"
   ]
  },
  {
   "cell_type": "code",
   "execution_count": null,
   "id": "adc0c466",
   "metadata": {},
   "outputs": [
    {
     "data": {
      "text/plain": [
       "True"
      ]
     },
     "execution_count": 2,
     "metadata": {},
     "output_type": "execute_result"
    }
   ],
   "source": [
    "import os\n",
    "from dotenv import load_dotenv\n",
    "import streamlit as st\n",
    "\n",
    "load_dotenv(override=True)"
   ]
  },
  {
   "cell_type": "code",
   "execution_count": 3,
   "id": "d4d0f696",
   "metadata": {},
   "outputs": [],
   "source": [
    "os.environ[\"OPENAI_API_KEY\"] = os.getenv(\"OPENAI_API_KEY\")\n",
    "os.environ[\"GROQ_API_KEY\"] = os.getenv(\"GROQ_API_KEY\")"
   ]
  },
  {
   "cell_type": "code",
   "execution_count": null,
   "id": "69539830",
   "metadata": {},
   "outputs": [],
   "source": [
    "from langchain_core.prompts import ChatPromptTemplate\n",
    "from langchain_openai import ChatOpenAI\n",
    "\n",
    "# initialize the LLM\n",
    "llm = ChatOpenAI(model=\"gpt-3.5-turbo\", temperature=0)\n",
    "\n",
    "\n",
    "def generate_grammar_exercise():\n",
    "    \"\"\"\n",
    "    Generates a single English grammar exercise question at a time\n",
    "    suitable for students from 5th to 8th grade.\n",
    "    \"\"\"\n",
    "    # create a chat prompt template\n",
    "    prompt_system = ChatPromptTemplate.from_messages([\n",
    "            (\n",
    "                \"system\", \"You are a English Teacher. \"\n",
    "                \"Your job is to teach people english grammar, via fun and interesteting short exercises. \"\n",
    "                \"Provide one question at a time, either fill-in-blanks or multiple-choice. \"\n",
    "                \"please note that while generating questions for english grammar, treat yourself as 5th to 8th standard teacher.\"\n",
    "            ),\n",
    "            (\n",
    "                \"user\", \n",
    "                \"please generate a single english grammar exercise question. \"\n",
    "            )\n",
    "        ])\n",
    "\n",
    "\n",
    "    # combine prompt and llm model\n",
    "    chain = prompt_system | llm\n",
    "\n",
    "    # run the chain\n",
    "    response = chain.invoke({\"question_type\": \"fill-in-the-blank\"})\n",
    "\n",
    "    # print the output\n",
    "    print(\"Generated Question: \")\n",
    "    print(response.content)\n",
    "    # return response.content\n"
   ]
  },
  {
   "cell_type": "code",
   "execution_count": 15,
   "id": "f230fcf1",
   "metadata": {},
   "outputs": [],
   "source": [
    "def check_answer(question, user_answer):\n",
    "    \"\"\"\n",
    "    Evaluate the user's answer and give feedback based on answer provided by user.\n",
    "    \"\"\"\n",
    "\n",
    "    prompt_check_answer = ChatPromptTemplate.from_messages([\n",
    "        (\n",
    "            \"system\", \"You are a English language teacher with quite good experience. Your job is to teach english language to stundents. \"\n",
    "            \"You will be given a question and it's answer to evaluate, both by the User. \"\n",
    "            \"You will be evaluating it and share feedback. Please be supportive and helpful. \"\n",
    "        ),\n",
    "        (\n",
    "            \"user\", f\"Question: {question} \\n Answer: {user_answer} \\n\" \n",
    "            \"Evaluate the corretness of the answer and provide feedback. \"\n",
    "        )\n",
    "    ])\n",
    "\n",
    "    chain_answer = prompt_check_answer | llm\n",
    "\n",
    "    response_answer= chain_answer.invoke({})\n",
    "\n",
    "    # print the output\n",
    "    print(\"\\n Feedback\")\n",
    "    print(response_answer.content)\n",
    "    return response_answer.content\n"
   ]
  },
  {
   "cell_type": "code",
   "execution_count": null,
   "id": "a0bfb191",
   "metadata": {},
   "outputs": [],
   "source": [
    "def app():\n",
    "    st.header(\": Fun With Grammar :\")\n",
    "    st.write(\" Sharpen your grammar skills with these exercises.\")\n",
    "\n",
    "    # State Management for exercise generation and user input\n",
    "    if \"exercise\" not in st.session_state:\n",
    "        st.session_state.exercise = None\n",
    "    if \"user_response\" not in st.session_state:\n",
    "        st.session_state.user_response = \"\"\n",
    "\n",
    "\n",
    "    # build exercise button\n",
    "    if st.button(\"Start\"):\n",
    "        st.session_state.exercise = generate_grammar_exercise()\n",
    "\n",
    "    if st.session_state.exercise:\n",
    "        st.subheader(\"Exercise\")\n",
    "        st.write(st.session_state.exercise)\n",
    "\n",
    "        # user input\n",
    "        user_response = st.text_input(\"Your answer :\", key = \"response\")\n",
    "        \n",
    "\n",
    "        if st.button(\"Check Answer\"):\n",
    "            if user_response:\n",
    "                st.session_state.user_response = user_response\n",
    "                feedback = check_answer(st.session_state.exercise, user_response)\n",
    "                st.subheader(\"Feedback on Your Answer\")\n",
    "                st.write(feedback)\n",
    "\n",
    "            else:\n",
    "                st.error(\"Please enter an answer before checking\")\n",
    "\n",
    "\n",
    "\n",
    "\n"
   ]
  },
  {
   "cell_type": "code",
   "execution_count": null,
   "id": "75e0ebb7",
   "metadata": {},
   "outputs": [],
   "source": []
  },
  {
   "cell_type": "code",
   "execution_count": null,
   "id": "3319b976",
   "metadata": {},
   "outputs": [],
   "source": []
  },
  {
   "cell_type": "code",
   "execution_count": null,
   "id": "1bb59b6c",
   "metadata": {},
   "outputs": [],
   "source": []
  },
  {
   "cell_type": "code",
   "execution_count": null,
   "id": "4fe95527",
   "metadata": {},
   "outputs": [],
   "source": []
  },
  {
   "cell_type": "code",
   "execution_count": null,
   "id": "fbfb4288",
   "metadata": {},
   "outputs": [],
   "source": []
  },
  {
   "cell_type": "code",
   "execution_count": null,
   "id": "51f25eca",
   "metadata": {},
   "outputs": [],
   "source": []
  }
 ],
 "metadata": {
  "kernelspec": {
   "display_name": "AgenticAI_03",
   "language": "python",
   "name": "python3"
  },
  "language_info": {
   "codemirror_mode": {
    "name": "ipython",
    "version": 3
   },
   "file_extension": ".py",
   "mimetype": "text/x-python",
   "name": "python",
   "nbconvert_exporter": "python",
   "pygments_lexer": "ipython3",
   "version": "3.12.9"
  }
 },
 "nbformat": 4,
 "nbformat_minor": 5
}
