{
 "cells": [
  {
   "cell_type": "markdown",
   "id": "d9e6555e",
   "metadata": {},
   "source": [
    "### Languange Transaltion --> Hindi to English"
   ]
  },
  {
   "cell_type": "code",
   "execution_count": 10,
   "id": "6fd2f71c",
   "metadata": {},
   "outputs": [],
   "source": [
    "import os\n",
    "from dotenv import load_dotenv\n",
    "from langchain_groq import ChatGroq\n",
    "from langchain.prompts import ChatPromptTemplate\n",
    "\n",
    "load_dotenv(override=True)\n",
    "\n",
    "os.environ[\"GROQ_API_KEY\"] = os.getenv(\"GROQ_API_KEY\")"
   ]
  },
  {
   "cell_type": "code",
   "execution_count": 11,
   "id": "399ff9df",
   "metadata": {},
   "outputs": [
    {
     "data": {
      "text/plain": [
       "AIMessage(content='<think>\\nOkay, the user sent \"Hi, there\". That\\'s a casual greeting. I should respond in a friendly and welcoming way. Maybe add an emoji to keep it light. Let me check if there\\'s anything else they might need. They might want to start a conversation or ask a question. I\\'ll keep it open-ended so they feel comfortable to elaborate. Alright, something like \"Hello! 😊 How can I help you today?\" That should work.\\n</think>\\n\\nHello! 😊 How can I help you today?', additional_kwargs={}, response_metadata={'token_usage': {'completion_tokens': 108, 'prompt_tokens': 11, 'total_tokens': 119, 'completion_time': 0.221781695, 'prompt_time': 0.006875743, 'queue_time': 0.069537487, 'total_time': 0.228657438}, 'model_name': 'qwen/qwen3-32b', 'system_fingerprint': 'fp_5cf921caa2', 'service_tier': 'on_demand', 'finish_reason': 'stop', 'logprobs': None}, id='run--4501e5c2-8649-4492-8d39-5e75da2d9b19-0', usage_metadata={'input_tokens': 11, 'output_tokens': 108, 'total_tokens': 119})"
      ]
     },
     "execution_count": 11,
     "metadata": {},
     "output_type": "execute_result"
    }
   ],
   "source": [
    "# used open-source model from Alibaba Cloud [google open source model --> gemma2-9b-it]\n",
    "llm = ChatGroq(model=\"qwen/qwen3-32b\")\n",
    "llm.invoke(\"Hi, there\")"
   ]
  },
  {
   "cell_type": "code",
   "execution_count": 26,
   "id": "90a30ffd",
   "metadata": {},
   "outputs": [
    {
     "name": "stdout",
     "output_type": "stream",
     "text": [
      "generating hindi_sentence\n",
      "अनिल सुबह सात बजे उठकर अपने स्कूल में पुस्तकालय से विज्ञान और इतिहास की पुस्तकें लेकर कक्षा में प्रस्तुति तैयार करता है, जबकि रमेश अपने घर में एकतरफा चिट्ठी लिखकर अपने दोस्त को अवकाश की योजनाओं के बारे में बताता है जिसमें पर्वतारोहण के बारे में बातचीत शामिल है, और दोनों दोपहर के भोजन के बाद अपने मित्रों के साथ खेल मैदान में फुटबॉल खेलते हैं, जबकि शाम के समय अनिल अपने परिवार के साथ टीवी देखता है और रमेश अपने घर में एकतरफा चिट्ठी पूरी करता है जिसमें वे अपने अवकाश के बारे में विस्तार से बताते हैं।\n"
     ]
    }
   ],
   "source": [
    "# create a chat prompt template\n",
    "prompt_system = ChatPromptTemplate.from_messages([\n",
    "        (\n",
    "            \"system\",\n",
    "            \"You are a professional Hindi language expert and teacher. You are assisting in creating Hindi language exercises for translation purposes.\"\n",
    "            \"You should only respond with one single sentence in Hindi. The sentence should be between 130 and 200 words long, and grammatically correct. \"\n",
    "            \"Do not explain your reasoning. Do not output anything except the sentence. Do not include any internal thoughts, tags, or formatting like <think>.\"\n",
    "        ),\n",
    "        (\n",
    "            \"user\",\n",
    "            \"Act like a content generator for language learners. Only provide the Hindi sentence. No other output.\"\n",
    "        )\n",
    "        ])\n",
    "\n",
    "chain_system = prompt_system | llm\n",
    "\n",
    "response_system = chain_system.invoke({})\n",
    "raw_output = response_system.content\n",
    "\n",
    "\n",
    "# Strip out <think> and anything inside it\n",
    "import re\n",
    "\n",
    "clean_output = re.sub(r\"<think>.*?</think>\", \"\", raw_output, flags=re.DOTALL).strip()\n",
    "\n",
    "print(\"generating hindi_sentence\")\n",
    "print(clean_output)\n",
    "# return response_system.content"
   ]
  },
  {
   "cell_type": "code",
   "execution_count": 15,
   "id": "4f75587e",
   "metadata": {},
   "outputs": [],
   "source": [
    "def generate_hindi_sentence():\n",
    "    \"\"\"\n",
    "    Generates a long hindi sentence\n",
    "    \"\"\"\n",
    "    # create a chat prompt template\n",
    "    prompt_system = ChatPromptTemplate.from_messages([\n",
    "            (\n",
    "                \"system\",\"You are language teacher.\"\n",
    "                \"you are a language translation expertise from Hindi to English and you have 10 years of experience. \"\n",
    "            ),\n",
    "            (\n",
    "                \"user\",\n",
    "                \"You will provide minimum 130 words and maximum 200 words long hindi sentence\"\n",
    "            )\n",
    "            ])\n",
    "\n",
    "    chain_system = prompt_system | llm\n",
    "\n",
    "    response_system = chain_system.invoke({})\n",
    "\n",
    "    print(\"generating hindi_sentence\")\n",
    "    # print(response_system.content)\n",
    "    return response_system.content"
   ]
  },
  {
   "cell_type": "code",
   "execution_count": 14,
   "id": "ae90aa1f",
   "metadata": {},
   "outputs": [],
   "source": [
    "def evaluating_hindi_sentence(origional, translation):\n",
    "    prompt_check = ChatPromptTemplate.from_messages([\n",
    "        (\n",
    "            \"system\",\"You are language teacher with 20 years of experience. Your job is to check the translation done by the user from hindi to english.\"\n",
    "            \"you will be given origional sentence and translation done by user .\"\n",
    "            \"you have to point out what user did wrong in answer, and what can be improved. if everthing is fine then you should appericate the user. \"\n",
    "        ),\n",
    "        (\n",
    "            \"user\", f\"origional sentence in Hindi: {origional}, /n user translation: {translation}.\"\n",
    "          \"Based on the origional sentence and user generated answer, you will evaluate the answer and provide feedback about what is going wrong and right \"\n",
    "          )\n",
    "          ])\n",
    "\n",
    "    chain_check = prompt_check | llm\n",
    "\n",
    "    response_check = chain_check.invoke({})\n",
    "\n",
    "    print(\"Generating Evaluation answer\")"
   ]
  },
  {
   "cell_type": "code",
   "execution_count": null,
   "id": "94741427",
   "metadata": {},
   "outputs": [],
   "source": []
  },
  {
   "cell_type": "code",
   "execution_count": null,
   "id": "bad6d72b",
   "metadata": {},
   "outputs": [],
   "source": []
  },
  {
   "cell_type": "code",
   "execution_count": null,
   "id": "ec75fb5b",
   "metadata": {},
   "outputs": [],
   "source": []
  },
  {
   "cell_type": "code",
   "execution_count": null,
   "id": "5b47d4ed",
   "metadata": {},
   "outputs": [],
   "source": []
  }
 ],
 "metadata": {
  "kernelspec": {
   "display_name": "AgenticAI_03",
   "language": "python",
   "name": "python3"
  },
  "language_info": {
   "codemirror_mode": {
    "name": "ipython",
    "version": 3
   },
   "file_extension": ".py",
   "mimetype": "text/x-python",
   "name": "python",
   "nbconvert_exporter": "python",
   "pygments_lexer": "ipython3",
   "version": "3.12.9"
  }
 },
 "nbformat": 4,
 "nbformat_minor": 5
}
